{
 "cells": [
  {
   "cell_type": "code",
   "execution_count": 1,
   "id": "1f5678ba-c937-4d91-897b-84a04d8cc49e",
   "metadata": {},
   "outputs": [],
   "source": [
    "color = [\"red\",\"black\",\"green\"]\n",
    "color\n",
    "color.append(\"green\")"
   ]
  },
  {
   "cell_type": "code",
   "execution_count": 2,
   "id": "ae441698-ff7e-4bc4-a480-5409bb084939",
   "metadata": {},
   "outputs": [
    {
     "data": {
      "text/plain": [
       "['red', 'black', 'green', 'green', 'green']"
      ]
     },
     "execution_count": 2,
     "metadata": {},
     "output_type": "execute_result"
    }
   ],
   "source": [
    "color.append(\"green\")\n",
    "color"
   ]
  },
  {
   "cell_type": "code",
   "execution_count": null,
   "id": "8ec4d123-f989-4182-bc8d-4798e8281d64",
   "metadata": {},
   "outputs": [],
   "source": []
  },
  {
   "cell_type": "code",
   "execution_count": 3,
   "id": "39588c4d-07e6-4544-8594-a13b1df80ee3",
   "metadata": {},
   "outputs": [
    {
     "data": {
      "text/plain": [
       "['red', 'black', 'green', 'green', 'green', 'yellow', 'orange']"
      ]
     },
     "execution_count": 3,
     "metadata": {},
     "output_type": "execute_result"
    }
   ],
   "source": [
    "color.extend([\"yellow\",\"orange\" ])\n",
    "color"
   ]
  },
  {
   "cell_type": "code",
   "execution_count": 4,
   "id": "25775301-92d6-47c8-bd55-00f5c55a74bd",
   "metadata": {},
   "outputs": [
    {
     "data": {
      "text/plain": [
       "['red',\n",
       " 'black',\n",
       " 'green',\n",
       " 'green',\n",
       " 'green',\n",
       " 'yellow',\n",
       " 'orange',\n",
       " 'y',\n",
       " 'e',\n",
       " 'l',\n",
       " 'l',\n",
       " 'o',\n",
       " 'w']"
      ]
     },
     "execution_count": 4,
     "metadata": {},
     "output_type": "execute_result"
    }
   ],
   "source": [
    "color.extend(\"yellow\")\n",
    "color"
   ]
  },
  {
   "cell_type": "code",
   "execution_count": 5,
   "id": "c47c3788-a84c-480e-82b9-371a6be4c82e",
   "metadata": {},
   "outputs": [
    {
     "name": "stdout",
     "output_type": "stream",
     "text": [
      "green\n",
      "['red', 'black', 'green', 'green', 'yellow', 'orange', 'y', 'e', 'l', 'l', 'o', 'w']\n"
     ]
    }
   ],
   "source": [
    "popping=color.pop(3)\n",
    "print(popping)\n",
    "print(color)"
   ]
  },
  {
   "cell_type": "code",
   "execution_count": 6,
   "id": "940c2161-79df-4c1e-8f46-c376da373b24",
   "metadata": {},
   "outputs": [
    {
     "name": "stdout",
     "output_type": "stream",
     "text": [
      "['red', 'black', 'green', 'yellow', 'orange', 'y', 'e', 'l', 'l', 'o', 'w']\n"
     ]
    }
   ],
   "source": [
    "color.remove(\"green\")\n",
    "print(color)"
   ]
  },
  {
   "cell_type": "code",
   "execution_count": 7,
   "id": "2244d9df-9464-4165-9c14-d9108d3da6fc",
   "metadata": {},
   "outputs": [
    {
     "data": {
      "text/plain": [
       "['red', 'black', 'green', 'yellow', 'orange', 'e', 'l', 'l', 'o', 'w']"
      ]
     },
     "execution_count": 7,
     "metadata": {},
     "output_type": "execute_result"
    }
   ],
   "source": [
    "del color[5]\n",
    "color"
   ]
  },
  {
   "cell_type": "code",
   "execution_count": 8,
   "id": "0d15c52b-b2dc-4387-9fdd-9c79d5646839",
   "metadata": {},
   "outputs": [
    {
     "name": "stdout",
     "output_type": "stream",
     "text": [
      "['yellow', 'w', 'red', 'orange', 'o', 'l', 'l', 'green', 'e', 'black']\n"
     ]
    }
   ],
   "source": [
    "color.sort(reverse=True)\n",
    "print(color)"
   ]
  },
  {
   "cell_type": "code",
   "execution_count": 9,
   "id": "2f3fa61f-c5a0-48b4-88d6-14d49d461deb",
   "metadata": {},
   "outputs": [
    {
     "name": "stdout",
     "output_type": "stream",
     "text": [
      "['yellow', 'w', 'red', 'orange', 'o', 'l', 'l', 'green', 'e', 'black']\n"
     ]
    }
   ],
   "source": [
    "col=color.copy()\n",
    "print(col)"
   ]
  },
  {
   "cell_type": "code",
   "execution_count": 10,
   "id": "203e48a8-1282-430a-afe9-c9c28c9b88ed",
   "metadata": {},
   "outputs": [
    {
     "name": "stdout",
     "output_type": "stream",
     "text": [
      "[] ['yellow', 'w', 'red', 'orange', 'o', 'l', 'l', 'green', 'e', 'black']\n"
     ]
    }
   ],
   "source": [
    "col.clear()\n",
    "print(col,color)"
   ]
  },
  {
   "cell_type": "code",
   "execution_count": 11,
   "id": "02d6e440-41d3-4201-9792-cb74c6f899d0",
   "metadata": {},
   "outputs": [
    {
     "ename": "NameError",
     "evalue": "name 'col' is not defined",
     "output_type": "error",
     "traceback": [
      "\u001b[31m---------------------------------------------------------------------------\u001b[39m",
      "\u001b[31mNameError\u001b[39m                                 Traceback (most recent call last)",
      "\u001b[36mCell\u001b[39m\u001b[36m \u001b[39m\u001b[32mIn[11]\u001b[39m\u001b[32m, line 2\u001b[39m\n\u001b[32m      1\u001b[39m \u001b[38;5;28;01mdel\u001b[39;00m col \n\u001b[32m----> \u001b[39m\u001b[32m2\u001b[39m \u001b[38;5;28mprint\u001b[39m(\u001b[43mcol\u001b[49m)\n",
      "\u001b[31mNameError\u001b[39m: name 'col' is not defined"
     ]
    }
   ],
   "source": [
    "del col \n",
    "print(col)"
   ]
  },
  {
   "cell_type": "code",
   "execution_count": null,
   "id": "00cfe86a-9f29-405f-8449-727d395fa7ef",
   "metadata": {},
   "outputs": [],
   "source": [
    "std_info={\"name\":[\"hitesh\",\"aman\",\"sanjay\"],\"usn\":[23,2,47],\"age\":[21,24,22]}"
   ]
  },
  {
   "cell_type": "code",
   "execution_count": null,
   "id": "d43942b7-d05a-4385-9d7e-4c30cad1e321",
   "metadata": {},
   "outputs": [
    {
     "data": {
      "text/plain": [
       "{'name': ['hitesh', 'aman', 'sanjay'], 'usn': [23, 2, 47], 'age': [21, 24, 22]}"
      ]
     },
     "execution_count": 13,
     "metadata": {},
     "output_type": "execute_result"
    }
   ],
   "source": [
    "std_info\n"
   ]
  },
  {
   "cell_type": "code",
   "execution_count": null,
   "id": "05cfbc97-927f-4a91-8e67-02d276b9fed1",
   "metadata": {},
   "outputs": [],
   "source": [
    "std_info[\"class\"]=\"aids\""
   ]
  },
  {
   "cell_type": "code",
   "execution_count": null,
   "id": "d49d1202-c38c-47da-a384-77feef74ff1f",
   "metadata": {},
   "outputs": [
    {
     "data": {
      "text/plain": [
       "{'name': ['hitesh', 'aman', 'sanjay'],\n",
       " 'usn': [23, 2, 47],\n",
       " 'age': [21, 24, 22],\n",
       " 'class': 'aids'}"
      ]
     },
     "execution_count": 19,
     "metadata": {},
     "output_type": "execute_result"
    }
   ],
   "source": [
    "std_info"
   ]
  },
  {
   "cell_type": "code",
   "execution_count": null,
   "id": "f1274f7e-78ae-48e7-9350-817be2816ad8",
   "metadata": {},
   "outputs": [],
   "source": [
    "dict1={\"sub\":[\"kannada\",\"english\"],\"sec\":\"A\"}"
   ]
  },
  {
   "cell_type": "code",
   "execution_count": null,
   "id": "ce2a78ae-ba18-4871-8c72-7825ea4c3498",
   "metadata": {},
   "outputs": [],
   "source": [
    "std_info.update(dict1 )"
   ]
  },
  {
   "cell_type": "code",
   "execution_count": null,
   "id": "c6606708-9901-4eab-8109-46e581eac7d1",
   "metadata": {},
   "outputs": [
    {
     "data": {
      "text/plain": [
       "{'name': ['hitesh', 'aman', 'sanjay'],\n",
       " 'usn': [23, 2, 47],\n",
       " 'age': [21, 24, 22],\n",
       " 'class': 'aids',\n",
       " 'sub': ['kannada', 'english'],\n",
       " 'sec': 'A'}"
      ]
     },
     "execution_count": 33,
     "metadata": {},
     "output_type": "execute_result"
    }
   ],
   "source": [
    "std_info"
   ]
  },
  {
   "cell_type": "code",
   "execution_count": null,
   "id": "3ed09b11-f6fd-4593-a3da-5d4d1dbc8acc",
   "metadata": {},
   "outputs": [
    {
     "data": {
      "text/plain": [
       "{0, 1, 2, 3, 4, 5, 6, 7, 8, 9}"
      ]
     },
     "execution_count": 37,
     "metadata": {},
     "output_type": "execute_result"
    }
   ],
   "source": [
    "set1={1,2,2,3,3,4,4,4,5,6,7,8,3.,2,5,3,2,7,8,9,0}\n",
    "set1"
   ]
  },
  {
   "cell_type": "code",
   "execution_count": null,
   "id": "2123922b-6df3-4bbb-944f-5aa169731c4a",
   "metadata": {},
   "outputs": [],
   "source": [
    "set1.add(10)"
   ]
  },
  {
   "cell_type": "code",
   "execution_count": null,
   "id": "7a54e5d1-faee-443a-8b3c-5e433f163138",
   "metadata": {},
   "outputs": [],
   "source": [
    "set1.update([10,11,12])"
   ]
  },
  {
   "cell_type": "code",
   "execution_count": null,
   "id": "5378d6b5-c171-4bb8-b0b9-50ca7d9f377f",
   "metadata": {},
   "outputs": [
    {
     "data": {
      "text/plain": [
       "{0, 2, 3, 4, 5, 6, 7, 8, 9, 10, 11, 12}"
      ]
     },
     "execution_count": 49,
     "metadata": {},
     "output_type": "execute_result"
    }
   ],
   "source": [
    "set1"
   ]
  },
  {
   "cell_type": "code",
   "execution_count": null,
   "id": "0d65caff-d927-4445-a6e0-5de9a25e0a5f",
   "metadata": {},
   "outputs": [
    {
     "data": {
      "text/plain": [
       "0"
      ]
     },
     "execution_count": 53,
     "metadata": {},
     "output_type": "execute_result"
    }
   ],
   "source": [
    "set1.pop()"
   ]
  },
  {
   "cell_type": "code",
   "execution_count": null,
   "id": "8c2244a0-a839-4d90-b7c9-46d18d430f08",
   "metadata": {},
   "outputs": [
    {
     "data": {
      "text/plain": [
       "2"
      ]
     },
     "execution_count": 55,
     "metadata": {},
     "output_type": "execute_result"
    }
   ],
   "source": [
    "set1.pop()"
   ]
  },
  {
   "cell_type": "code",
   "execution_count": null,
   "id": "a1885624-213b-4db9-abeb-94dfc23919a2",
   "metadata": {},
   "outputs": [],
   "source": [
    "set1.discard(14)"
   ]
  },
  {
   "cell_type": "code",
   "execution_count": null,
   "id": "a241a121-74ee-4a6e-af53-984fa4e14ba0",
   "metadata": {},
   "outputs": [],
   "source": [
    "set1.discard(12)"
   ]
  },
  {
   "cell_type": "code",
   "execution_count": null,
   "id": "f46bec7d-7cbf-42c5-b8ae-ce1b199e90ba",
   "metadata": {},
   "outputs": [
    {
     "data": {
      "text/plain": [
       "{3, 4, 5, 6, 7, 8, 9, 10, 11}"
      ]
     },
     "execution_count": 65,
     "metadata": {},
     "output_type": "execute_result"
    }
   ],
   "source": [
    "set1"
   ]
  },
  {
   "cell_type": "code",
   "execution_count": null,
   "id": "cca286ee-9c7c-4afc-a874-47da7e5f0374",
   "metadata": {},
   "outputs": [
    {
     "name": "stdout",
     "output_type": "stream",
     "text": [
      "union; {1, 2, 3, 4, 5, 6, 7}\n",
      "union; {1, 2, 3, 4, 5, 6, 7}\n",
      "intersection; {3, 4, 5}\n",
      "difference; {1, 2}\n"
     ]
    }
   ],
   "source": [
    "set2={1,2,3,4,5}\n",
    "set3={3,4,5,6,7}\n",
    "union=set2|set3 \n",
    "unioin1=set2.union(set3)\n",
    "intersection=set2.intersection(set3)\n",
    "difference=set2.difference(set3)\n",
    "print(\"union;\",unioin1)\n",
    "print(\"union;\",union)\n",
    "print(\"intersection;\",intersection)\n",
    "print(\"difference;\",difference)\n",
    "      "
   ]
  },
  {
   "cell_type": "code",
   "execution_count": null,
   "id": "aed4fae6-812b-4358-aa87-d16123b21a63",
   "metadata": {},
   "outputs": [
    {
     "name": "stdout",
     "output_type": "stream",
     "text": [
      "['python', 'is', 'powerful,', 'python', 'is', 'versatile,', 'python', 'is', 'fun']\n"
     ]
    }
   ],
   "source": [
    "text=\"python is powerful, python is versatile, python is fun\"\n",
    "text=text.lower()\n",
    "text=text.split(\" \")\n",
    "print(text)"
   ]
  },
  {
   "cell_type": "code",
   "execution_count": null,
   "id": "163ef8ec-7c97-48ec-ad3e-9777066c8991",
   "metadata": {},
   "outputs": [
    {
     "data": {
      "text/plain": [
       "{'fun', 'is', 'powerful,', 'python', 'versatile,'}"
      ]
     },
     "execution_count": 13,
     "metadata": {},
     "output_type": "execute_result"
    }
   ],
   "source": [
    "text=set(text)\n",
    "text"
   ]
  },
  {
   "cell_type": "code",
   "execution_count": null,
   "id": "d2ccaacb-0677-4f71-9176-58b8f831622e",
   "metadata": {},
   "outputs": [
    {
     "name": "stdout",
     "output_type": "stream",
     "text": [
      "False\n",
      "True\n",
      "True\n",
      "x 1320833794560\n",
      "y 1320833806336\n",
      "z 1320833794560\n"
     ]
    }
   ],
   "source": [
    "x=[2,3]\n",
    "y=[2,3]\n",
    "z=x\n",
    "print(x is y)\n",
    "print(x is z)\n",
    "print(x==y)\n",
    "print(\"x\",id(x))\n",
    "print(\"y\",id(y))\n",
    "print(\"z\",id(z))"
   ]
  },
  {
   "cell_type": "code",
   "execution_count": null,
   "id": "fa29536e-e925-40eb-8471-121288e3facf",
   "metadata": {},
   "outputs": [
    {
     "name": "stdout",
     "output_type": "stream",
     "text": [
      "enter ur Age 10\n"
     ]
    },
    {
     "name": "stdout",
     "output_type": "stream",
     "text": [
      " you are not eligible to vote you have to wait 8 years to vote\n"
     ]
    }
   ],
   "source": [
    "x=int(input(\"enter ur Age\"))\n",
    "if x>18:\n",
    "     print(\"u r eligeble to vote\")\n",
    "else:\n",
    "     print (\" you are not eligible to vote you have to wait\",18-x,\"years to vote\")\n",
    "     #print (\"you have to wait\",18-x,\"years to vote\")"
   ]
  },
  {
   "cell_type": "code",
   "execution_count": null,
   "id": "abdd4d59-bc9d-4292-8d67-daa7aebf2771",
   "metadata": {},
   "outputs": [
    {
     "name": "stdout",
     "output_type": "stream",
     "text": [
      "enter a number 5\n"
     ]
    },
    {
     "name": "stdout",
     "output_type": "stream",
     "text": [
      "it is odd\n"
     ]
    }
   ],
   "source": [
    "x=int(input(\"enter a number\"))\n",
    "if (x%2==0):\n",
    "  print (\"it is even\")\n",
    "else :\n",
    "  print (\"it is odd\")"
   ]
  },
  {
   "cell_type": "code",
   "execution_count": null,
   "id": "2b9d83c5-64f1-4a74-8c41-bad81609451b",
   "metadata": {},
   "outputs": [],
   "source": [
    "x=int( input(\"enter the 1st number \"))\n",
    "y=int( input(\"enter the 2nd number \"))\n",
    "z=str( input(\"enter the operator u want to perform operation\"))\n",
    "if(z==\"+\"):\n",
    "  print(x+y)\n",
    "elif(z==\"-\"):\n",
    "  print(x-y)\n",
    "elif(z==\"/\" and y==0):\n",
    "  print(\"Division by zero error\")\n",
    "elif(z==\"/\"):\n",
    "  print(x/y)\n",
    "elif(z==\"%\"):\n",
    "  print(x%y)\n",
    "elif(z==\"*\"):\n",
    "  print(x*y)\n",
    "else:\n",
    "    print(\"Invalid operator\")"
   ]
  },
  {
   "cell_type": "code",
   "execution_count": null,
   "id": "974c4aaa-f191-4473-a7b9-5613ed56d0fe",
   "metadata": {},
   "outputs": [
    {
     "name": "stdout",
     "output_type": "stream",
     "text": [
      "enter the year : 2000\n"
     ]
    },
    {
     "name": "stdout",
     "output_type": "stream",
     "text": [
      "it's not a leap year\n"
     ]
    }
   ],
   "source": [
    "year =int(input(\"enter the year :\"))\n",
    "if (year%4==0 & year%100!=0)or year%400==0:\n",
    "    print(\"it's a leap year\")\n",
    "else:\n",
    "    print(\"it's not a leap year\")\n"
   ]
  },
  {
   "cell_type": "code",
   "execution_count": null,
   "id": "b8d0bdf7-517a-44a4-962b-9a8f8b43c087",
   "metadata": {},
   "outputs": [
    {
     "name": "stdout",
     "output_type": "stream",
     "text": [
      "enter the 1st number 25\n",
      "enter the 2nd number 45\n"
     ]
    },
    {
     "name": "stdout",
     "output_type": "stream",
     "text": [
      "45 is greater\n"
     ]
    }
   ],
   "source": [
    "a=int(input(\"enter the 1st number\"))\n",
    "b=int(input(\"enter the 2nd number\"))\n",
    "if (a>b):\n",
    "    print (a,\" is greater\")\n",
    "elif a==b :\n",
    "    print(\"boteh are same numbers\")\n",
    "else :\n",
    "    print(b,\"is greater\")"
   ]
  },
  {
   "cell_type": "code",
   "execution_count": null,
   "id": "743873e4-9bb5-48f6-9f6a-eee4e6febb05",
   "metadata": {},
   "outputs": [
    {
     "name": "stdout",
     "output_type": "stream",
     "text": [
      "enter a character s\n"
     ]
    },
    {
     "name": "stdout",
     "output_type": "stream",
     "text": [
      "it is a consonant\n"
     ]
    }
   ],
   "source": [
    "a=str(input(\"enter a character\"))\n",
    "a= a.lower()\n",
    "if (a in [\"a\",\"e\",\"i\",\"o\",\"u\"]):\n",
    "    print(\"it is a vowel\")\n",
    "else :\n",
    "    print(\"it is a consonant\")"
   ]
  },
  {
   "cell_type": "code",
   "execution_count": null,
   "id": "78493bbc-c427-402e-bcce-9936dbf821c2",
   "metadata": {},
   "outputs": [
    {
     "name": "stdout",
     "output_type": "stream",
     "text": [
      "enter 3 digit number 123\n"
     ]
    },
    {
     "name": "stdout",
     "output_type": "stream",
     "text": [
      "middle number is  2\n"
     ]
    }
   ],
   "source": [
    "a=(input(\"enter 3 digit number\"))\n",
    "if len(a)%2 != 0:\n",
    "  middle=len(a)//2\n",
    "  print(\"middle number is \",a[middle]) \n",
    "else :\n",
    "    print(\"there exists 2 middle numbers so please try to give odd numbers \")"
   ]
  },
  {
   "cell_type": "code",
   "execution_count": null,
   "id": "629412a9-2855-45a2-abe9-9e97a0ca6cd2",
   "metadata": {},
   "outputs": [
    {
     "name": "stdout",
     "output_type": "stream",
     "text": [
      "enter 3 digit number 345\n"
     ]
    },
    {
     "name": "stdout",
     "output_type": "stream",
     "text": [
      "4\n"
     ]
    }
   ],
   "source": [
    "a=int(input(\"enter 3 digit number\"))\n",
    "b= a // 10\n",
    "b=str(b)\n",
    "b=b[::-1]\n",
    "b=int(b)\n",
    "c= b // 10\n",
    "print(c)"
   ]
  },
  {
   "cell_type": "code",
   "execution_count": null,
   "id": "59fbc4ee-bae8-4b85-8cc7-95791262ec34",
   "metadata": {},
   "outputs": [],
   "source": [
    "b=str(b)\n",
    "b=b[::-1]\n",
    "b=int(b)\n",
    "c= b // 10\n",
    "print(c)"
   ]
  },
  {
   "cell_type": "code",
   "execution_count": null,
   "id": "128dc6a9-72f2-4b1b-914f-b9b275aa9cfa",
   "metadata": {},
   "outputs": [
    {
     "name": "stdout",
     "output_type": "stream",
     "text": [
      "enter the number of rows: 4\n"
     ]
    },
    {
     "name": "stdout",
     "output_type": "stream",
     "text": [
      "1\n",
      "12\n",
      "123\n",
      "1234\n"
     ]
    }
   ],
   "source": [
    "n=int(input(\"enter the number of rows:\"))\n",
    "for i in range(1,n+1):\n",
    "    for j in range(1,i+1):\n",
    "         print(j,end=\"\")\n",
    "    print()\n",
    "    "
   ]
  },
  {
   "cell_type": "code",
   "execution_count": null,
   "id": "8d6174b6-72c3-4197-89ca-4e55a6db0c52",
   "metadata": {},
   "outputs": [
    {
     "name": "stdout",
     "output_type": "stream",
     "text": [
      "enter the number of rows: 4\n"
     ]
    },
    {
     "name": "stdout",
     "output_type": "stream",
     "text": [
      "****\n",
      "****\n",
      "****\n",
      "****\n"
     ]
    }
   ],
   "source": [
    "n=int(input(\"enter the number of rows:\"))\n",
    "for i in range(1,n+1):\n",
    "    print(\"*\"*n)"
   ]
  },
  {
   "cell_type": "code",
   "execution_count": null,
   "id": "08559a8c-67db-493c-84d8-8eca784606b4",
   "metadata": {},
   "outputs": [
    {
     "name": "stdout",
     "output_type": "stream",
     "text": [
      "enter the number of rows 4\n"
     ]
    },
    {
     "name": "stdout",
     "output_type": "stream",
     "text": [
      "*     \n",
      "* *     \n",
      "* * *     \n",
      "* * * *     \n"
     ]
    }
   ],
   "source": [
    "n=int(input(\"enter the number of rows\"))\n",
    "for i in range (1,n+1):\n",
    "    for j in range (1,i+1):\n",
    "        print(\"*\",end=\" \")\n",
    "    print(n*\" \")"
   ]
  },
  {
   "cell_type": "code",
   "execution_count": null,
   "id": "c0a624ed-dd50-44d2-854b-99e02447c9f0",
   "metadata": {},
   "outputs": [
    {
     "name": "stdout",
     "output_type": "stream",
     "text": [
      "        \n",
      "       * \n",
      "      * * \n",
      "     * * * \n",
      "    * * * * \n",
      "   * * * * * \n",
      "  * * * * * * \n",
      " * * * * * * * \n",
      "* * * * * * * * \n",
      " * * * * * * * \n",
      "  * * * * * * \n",
      "   * * * * * \n",
      "    * * * * \n",
      "     * * * \n",
      "      * * \n",
      "       * \n"
     ]
    }
   ],
   "source": [
    "n=8\n",
    "for i in range(0,n):\n",
    "    print(\" \"*(n-i)+\"* \" * i)\n",
    "for i in range(n,0,-1):\n",
    "    print(\" \"*(n-i)+\"* \" * i)"
   ]
  },
  {
   "cell_type": "code",
   "execution_count": null,
   "id": "b586aaba-d748-427d-b42e-52fcebc2e331",
   "metadata": {},
   "outputs": [
    {
     "name": "stdout",
     "output_type": "stream",
     "text": [
      "* * * * * * * * \n",
      " * * * * * * * \n",
      "  * * * * * * \n",
      "   * * * * * \n",
      "    * * * * \n",
      "     * * * \n",
      "      * * \n",
      "       * \n"
     ]
    }
   ],
   "source": [
    "n=8\n",
    "for i in range(n,0,-1):\n",
    "    print(\" \"*(n-i)+\"* \" * i)"
   ]
  },
  {
   "cell_type": "code",
   "execution_count": null,
   "id": "79070419-6656-4acb-a0f4-f8e6393c5448",
   "metadata": {},
   "outputs": [
    {
     "name": "stdout",
     "output_type": "stream",
     "text": [
      "6\n",
      "5\n",
      "4\n",
      "3\n",
      "2\n"
     ]
    }
   ],
   "source": [
    "for i in range(6,1,-1):\n",
    "    print(i)"
   ]
  },
  {
   "cell_type": "code",
   "execution_count": null,
   "id": "c2475dc0-3567-4de7-9f98-dd080a82930c",
   "metadata": {},
   "outputs": [
    {
     "name": "stdout",
     "output_type": "stream",
     "text": [
      "     \n",
      "    * \n",
      "   * * \n",
      "  * * * \n",
      " * * * * \n",
      "* * * * * \n"
     ]
    }
   ],
   "source": [
    "#n=int(input(\"enter the number of rows\"))\n",
    "n=5\n",
    "for i in range(0,n+1):\n",
    "    print(\" \"*(n-i)+\"* \"*i)"
   ]
  },
  {
   "cell_type": "code",
   "execution_count": null,
   "id": "61039c6e-cb6d-4653-961a-ccf62ee9db6a",
   "metadata": {},
   "outputs": [
    {
     "name": "stdout",
     "output_type": "stream",
     "text": [
      "enter the number of rows: 5\n"
     ]
    },
    {
     "name": "stdout",
     "output_type": "stream",
     "text": [
      "\n",
      "     1 \n",
      "    1 2 \n",
      "   1 2 3 \n",
      "  1 2 3 4 \n",
      " 1 2 3 4 5 "
     ]
    }
   ],
   "source": [
    "n=int(input(\"enter the number of rows:\"))\n",
    "for i in range(1,n+1):\n",
    "    print(\"\\n\"+\" \"*(n-i),end=\" \")\n",
    "    for j in range(1,i+1):\n",
    "         print(j,end=\" \")\n",
    "#print(\" \")"
   ]
  },
  {
   "cell_type": "code",
   "execution_count": null,
   "id": "9f804575-66ef-462c-8560-c9003242bd1c",
   "metadata": {},
   "outputs": [
    {
     "name": "stdout",
     "output_type": "stream",
     "text": [
      "1 4 9 16 "
     ]
    }
   ],
   "source": [
    "i=1\n",
    "while i<=1:\n",
    "    j=1\n",
    "    while j<=4:\n",
    "        print(j**2,end=\" \")\n",
    "        j+=1\n",
    "    i+=1"
   ]
  },
  {
   "cell_type": "code",
   "execution_count": null,
   "id": "02775593-65fa-47ef-98df-d0a48748f56e",
   "metadata": {},
   "outputs": [
    {
     "name": "stdout",
     "output_type": "stream",
     "text": [
      "0\n",
      "1\n",
      "2\n",
      "3\n",
      "4\n",
      "5\n",
      "6\n",
      "7\n",
      "8\n",
      "9\n",
      "11\n",
      "12\n",
      "13\n",
      "14\n",
      "15\n",
      "16\n",
      "17\n",
      "18\n",
      "19\n"
     ]
    }
   ],
   "source": [
    "f = range(20)\n",
    "for i in f:\n",
    "    \n",
    "    if i==10:\n",
    "        continue \n",
    "    print(i)"
   ]
  },
  {
   "cell_type": "code",
   "execution_count": null,
   "id": "8ee9e616-3ee9-4ea7-835a-593253ae5608",
   "metadata": {},
   "outputs": [
    {
     "name": "stdout",
     "output_type": "stream",
     "text": [
      "[0, 2, 4, 6, 8, 10, 12, 14, 16, 18, 20, 22, 24, 26, 28, 30, 32, 34, 36, 38, 40, 42, 44, 46, 48]\n"
     ]
    }
   ],
   "source": [
    "j=range(50)\n",
    "t= list()\n",
    "for i in j:\n",
    "    if i%2!=0:\n",
    "        continue\n",
    "    t.append(i)\n",
    "print(t)"
   ]
  },
  {
   "cell_type": "code",
   "execution_count": null,
   "id": "b5fa9df1-47f7-40e0-83a5-e447dc1c7c97",
   "metadata": {},
   "outputs": [
    {
     "name": "stdout",
     "output_type": "stream",
     "text": [
      "enter u  rank 78\n"
     ]
    },
    {
     "name": "stdout",
     "output_type": "stream",
     "text": [
      "B\n"
     ]
    }
   ],
   "source": [
    "n=int(input(\"enter u  rank\"))\n",
    "rank=\"A+\" if n>90 else \"A\" if n>80 else \"B\" if n>70 else \"B+\" if n>70 else \"c+\"\n",
    "print(rank)"
   ]
  },
  {
   "cell_type": "code",
   "execution_count": null,
   "id": "01c4b55d-d870-4f7b-9627-2e666e73a639",
   "metadata": {},
   "outputs": [
    {
     "name": "stdout",
     "output_type": "stream",
     "text": [
      "[6, 720, 362880]\n"
     ]
    }
   ],
   "source": [
    "a=[[1,2,3],[4,5,6],[7,8,9]]\n",
    "#a=list(a)\n",
    "l=[]\n",
    "prod=1\n",
    "for i in a:\n",
    "    for j in i:\n",
    "        prod*=j\n",
    "    l.append(prod) \n",
    "print(l)"
   ]
  },
  {
   "cell_type": "code",
   "execution_count": null,
   "id": "8f11885a-1a17-4e9a-bff2-68cd9c8d11da",
   "metadata": {},
   "outputs": [
    {
     "name": "stdout",
     "output_type": "stream",
     "text": [
      "5\n",
      "10\n"
     ]
    }
   ],
   "source": [
    "total=0\n",
    "count=1\n",
    "while total<10:\n",
    "    total+=count\n",
    "    count+=1\n",
    "print(count)\n",
    "print(total)"
   ]
  },
  {
   "cell_type": "code",
   "execution_count": null,
   "id": "476c89fd-937e-4180-abeb-629fe629c403",
   "metadata": {},
   "outputs": [
    {
     "name": "stdout",
     "output_type": "stream",
     "text": [
      "0\n",
      "2\n",
      "4\n",
      "6\n",
      "8\n",
      "10\n"
     ]
    }
   ],
   "source": [
    "s=0\n",
    "while s<11:\n",
    "    if s%2==0:\n",
    "        print(s)\n",
    "        s+=1\n",
    "    else:\n",
    "        None\n",
    "        s+=1"
   ]
  },
  {
   "cell_type": "code",
   "execution_count": null,
   "id": "8b8cd256-dae9-4bd3-9146-8696bb28f679",
   "metadata": {},
   "outputs": [
    {
     "name": "stdout",
     "output_type": "stream",
     "text": [
      "[0, 2, 4, 6, 8, 10, 12, 14, 16, 18, 20, 22, 24, 26, 28, 30, 32, 34, 36, 38, 40, 42, 44, 46, 48, 50]\n"
     ]
    }
   ],
   "source": [
    "h = range (100)\n",
    "l=list()\n",
    "for i in h:\n",
    "    if i%2==0:\n",
    "        l.append(i)\n",
    "    if i==50:\n",
    "        break\n",
    "\n",
    "print(l)"
   ]
  },
  {
   "cell_type": "code",
   "execution_count": null,
   "id": "6998a9ec-bccc-40ca-b0c7-29e344aaa310",
   "metadata": {},
   "outputs": [
    {
     "name": "stdout",
     "output_type": "stream",
     "text": [
      "[0, '', 2, '', 4, '', 6, '', 8, '', 10, '', 12, '', 14, '', 16, '', 18, '']\n"
     ]
    }
   ],
   "source": [
    "even=[i if i%2==0 else \"\" for i in range(20)]\n",
    "print(even)"
   ]
  },
  {
   "cell_type": "code",
   "execution_count": null,
   "id": "33508d8a-b745-4563-8c49-3e0146bb579c",
   "metadata": {},
   "outputs": [
    {
     "data": {
      "text/plain": [
       "[21, 24, 27, 30, 33, 36, 39, 42, 45, 48, 51, 54, 57]"
      ]
     },
     "execution_count": 90,
     "metadata": {},
     "output_type": "execute_result"
    }
   ],
   "source": [
    "div3=[i for i in range(20,60) if i%3==0]\n",
    "div3"
   ]
  },
  {
   "cell_type": "code",
   "execution_count": null,
   "id": "3d59b728-4505-4102-a742-563485d0d26a",
   "metadata": {},
   "outputs": [
    {
     "name": "stdout",
     "output_type": "stream",
     "text": [
      "['1 is not divisible by 3 & 5', '3 is divisible by 3', '5 is divisible by 5', '7 is not divisible by 3 & 5', '9 is divisible by 3', '11 is not divisible by 3 & 5', '13 is not divisible by 3 & 5', '15 is divisible by 3 & 5', '17 is not divisible by 3 & 5', '19 is not divisible by 3 & 5']\n"
     ]
    }
   ],
   "source": [
    "div_3_5=[f\"{i} is divisible by 3 & 5\" if (i%3==0 and i%5==0) else f\"{i} is divisible by 3\" if i%3==0 else f\"{i} is divisible by 5\" if i%5==0 else f\"{i} is not divisible by 3 & 5\" for i in range(1,20,2)]\n",
    "print(div_3_5)"
   ]
  },
  {
   "cell_type": "code",
   "execution_count": null,
   "id": "b7be713c-43a4-4bf0-99f0-29c2d5b8b063",
   "metadata": {},
   "outputs": [
    {
     "name": "stdout",
     "output_type": "stream",
     "text": [
      "*\n",
      "**\n",
      "***\n",
      "****\n",
      "*****\n",
      "****\n",
      "***\n",
      "**\n",
      "*\n"
     ]
    }
   ],
   "source": [
    "for i in range (1,6):\n",
    "    print(\"*\"*i)\n",
    "    if i==5:\n",
    "        for i in range(4,0,-1):\n",
    "            print(\"*\"*i)"
   ]
  },
  {
   "cell_type": "code",
   "execution_count": 40,
   "id": "495643b0-27ea-4ee5-af53-f6e960bcd325",
   "metadata": {},
   "outputs": [
    {
     "name": "stdout",
     "output_type": "stream",
     "text": [
      "N\n",
      "Ni\n",
      "Nir\n",
      "Nira\n",
      "Niran\n",
      "Niranj\n",
      "Niranja\n",
      "Niranjan\n",
      "Niranja\n",
      "Niranj\n",
      "Niran\n",
      "Nira\n",
      "Nir\n",
      "Ni\n",
      "N\n",
      "\n"
     ]
    }
   ],
   "source": [
    "str=\"Niranjan\"\n",
    "x=0\n",
    "for i in str:\n",
    "    x+=1\n",
    "    print(str[0:x])\n",
    "for i in str:\n",
    "    x-=1\n",
    "    print(str[0:x])"
   ]
  },
  {
   "cell_type": "code",
   "execution_count": null,
   "id": "ed7450a2-91a6-40a7-bd5f-183ec56c2b82",
   "metadata": {},
   "outputs": [
    {
     "name": "stdout",
     "output_type": "stream",
     "text": [
      "[1, 4, 9, 16, 25, 36, 49, 64, 81, 100, 121, 144, 169, 196, 225, 256, 289, 324, 361] "
     ]
    }
   ],
   "source": [
    "square = [num**2 for num in range(1,20)]\n",
    "print(square,end=\" \")"
   ]
  },
  {
   "cell_type": "code",
   "execution_count": 22,
   "id": "39a194e3",
   "metadata": {},
   "outputs": [
    {
     "name": "stdout",
     "output_type": "stream",
     "text": [
      "('M', 'V', 'E', 'M', 'J', 'S', 'U', 'N')\n"
     ]
    }
   ],
   "source": [
    "planets=[\"Mercury\",\"Venus\",\"Earth\",\"Mars\",\"Jupiter\",\"Satron\",\"Urenus\",\"Neptune\"]\n",
    "initial_alpha=tuple(i[0] for i in planets)\n",
    "print(initial_alpha)"
   ]
  },
  {
   "cell_type": "code",
   "execution_count": 25,
   "id": "224622b6",
   "metadata": {},
   "outputs": [
    {
     "name": "stdout",
     "output_type": "stream",
     "text": [
      "{'Mercury': 'M', 'Venus': 'V', 'Earth': 'E', 'Mars': 'M', 'Jupiter': 'J', 'Satron': 'S', 'Urenus': 'U', 'Neptune': 'N'} "
     ]
    }
   ],
   "source": [
    "initial_with_key={i:i[0] for i in planets}\n",
    "print(initial_with_key,end=\" \")"
   ]
  },
  {
   "cell_type": "code",
   "execution_count": 27,
   "id": "bc1055f7",
   "metadata": {},
   "outputs": [
    {
     "data": {
      "text/plain": [
       "{'one': 1, 'two': 2, 'three': 3, 'four': 4, 'five': 5}"
      ]
     },
     "execution_count": 27,
     "metadata": {},
     "output_type": "execute_result"
    }
   ],
   "source": [
    "key=[\"one\",\"two\",\"three\",\"four\",\"five\"]\n",
    "val=[1,2,3,4,5]\n",
    "my_dir={k:v for k,v in zip(key,val)}\n",
    "my_dir"
   ]
  },
  {
   "cell_type": "code",
   "execution_count": 41,
   "id": "663814a8",
   "metadata": {},
   "outputs": [
    {
     "name": "stdout",
     "output_type": "stream",
     "text": [
      "{'a': 'A', 'k': 'K', 'c': 'C', 'o': 'O', 'w': 'W', 'i': 'I', 'm': 'M', 'e': 'E', 'n': 'N', 's': 'S', 'j': 'J', 'd': 'D'} "
     ]
    }
   ],
   "source": [
    "str=\"akcowimcoeincisjkancoasdcnj\"\n",
    "upper_c={i:i.upper() for i in str}\n",
    "print(upper_c,end=\" \")"
   ]
  },
  {
   "cell_type": "code",
   "execution_count": 42,
   "id": "1a64209b",
   "metadata": {},
   "outputs": [
    {
     "name": "stdout",
     "output_type": "stream",
     "text": [
      "(25, 36, 49, 64, 81, 100)\n"
     ]
    }
   ],
   "source": [
    "k=tuple(i**2 for i in range(5,11))\n",
    "print(k)"
   ]
  },
  {
   "cell_type": "code",
   "execution_count": 45,
   "id": "ce18d50a",
   "metadata": {},
   "outputs": [
    {
     "ename": "TypeError",
     "evalue": "'str' object is not callable",
     "output_type": "error",
     "traceback": [
      "\u001b[31m---------------------------------------------------------------------------\u001b[39m",
      "\u001b[31mTypeError\u001b[39m                                 Traceback (most recent call last)",
      "\u001b[36mCell\u001b[39m\u001b[36m \u001b[39m\u001b[32mIn[45]\u001b[39m\u001b[32m, line 2\u001b[39m\n\u001b[32m      1\u001b[39m \u001b[38;5;28;01mfor\u001b[39;00m i \u001b[38;5;129;01min\u001b[39;00m \u001b[38;5;28mrange\u001b[39m(\u001b[32m1\u001b[39m,\u001b[32m101\u001b[39m):\n\u001b[32m----> \u001b[39m\u001b[32m2\u001b[39m     i=\u001b[38;5;28;43mstr\u001b[39;49m\u001b[43m(\u001b[49m\u001b[43mi\u001b[49m\u001b[43m)\u001b[49m\n\u001b[32m      3\u001b[39m     \u001b[38;5;28mprint\u001b[39m(i,end=\u001b[33m\"\u001b[39m\u001b[33m \u001b[39m\u001b[33m\"\u001b[39m)\n\u001b[32m      4\u001b[39m     \u001b[38;5;28;01mif\u001b[39;00m i.endswith (\u001b[33m'\u001b[39m\u001b[33m0\u001b[39m\u001b[33m'\u001b[39m):\n",
      "\u001b[31mTypeError\u001b[39m: 'str' object is not callable"
     ]
    }
   ],
   "source": [
    "for i in range(1,101):\n",
    "    i=str(i)\n",
    "    print(i,end=\" \")\n",
    "    if i.endswith ('0'):\n",
    "        print(\"\\n\")"
   ]
  },
  {
   "cell_type": "code",
   "execution_count": 3,
   "id": "0c390b39",
   "metadata": {},
   "outputs": [
    {
     "data": {
      "text/plain": [
       "28"
      ]
     },
     "execution_count": 3,
     "metadata": {},
     "output_type": "execute_result"
    }
   ],
   "source": [
    "a=6\n",
    "import sys \n",
    "b = sys.getsizeof(a)\n",
    "b"
   ]
  },
  {
   "cell_type": "code",
   "execution_count": 5,
   "id": "c5c5536c",
   "metadata": {},
   "outputs": [],
   "source": [
    "def sum(*n):\n",
    "    total=0\n",
    "    for n2 in n:\n",
    "        total+=n2\n",
    "        print(total,end=\" \")"
   ]
  },
  {
   "cell_type": "code",
   "execution_count": 6,
   "id": "25d61e48",
   "metadata": {},
   "outputs": [
    {
     "name": "stdout",
     "output_type": "stream",
     "text": [
      "1 3 6 10 15 21 "
     ]
    }
   ],
   "source": [
    "sum(1,2,3,4,5,6)"
   ]
  },
  {
   "cell_type": "code",
   "execution_count": 31,
   "id": "6351f0fa",
   "metadata": {},
   "outputs": [],
   "source": [
    "encode= [\n",
    "    '18-5-3-1-4',     \n",
    "    '2-5-20-12-5',   \n",
    "    '15-14-5-7-5-1', \n",
    "    '23-8-1-20',     \n",
    "    '1-3-20-9-15-14',\n",
    "    '18-5-1-12-12-25',\n",
    "    '20-8-5',        \n",
    "    '13-5-19-19-1-7-5',\n",
    "    '3-8-1-12-12-5-14-7-5',\n",
    "]\n",
    "l_to_n={\"a\":1,\"b\":2,\"c\":3,\"d\":4,\"e\":5,\"f\":6,\"g\":7,\"h\":8,\"i\":9,\"j\":10,\"k\":11,\"l\":12,\"m\":13,\"n\":14,\"o\":15,\"p\":16,\"q\":17,\"r\":18,\"s\":19,\"t\":20,\"u\":21,\"v\":22,\"w\":23,\"x\":24,\"y\":25,\"z\":26}\n",
    "def let_numb(encode):\n",
    "    for i,j in l_to_n.items():\n",
    "        if encode==j:\n",
    "            return i\n",
    "\n"
   ]
  },
  {
   "cell_type": "code",
   "execution_count": 62,
   "id": "a0b2ca40",
   "metadata": {},
   "outputs": [
    {
     "name": "stdout",
     "output_type": "stream",
     "text": [
      "recad\n",
      "betle\n",
      "onegea\n",
      "what\n",
      "action\n",
      "really\n",
      "the\n",
      "message\n",
      "challenge\n"
     ]
    }
   ],
   "source": [
    "list1=[]\n",
    "for i in encode:    \n",
    "    h=i.split(\"-\")\n",
    "    \n",
    "    #print(h)\n",
    "    for t in h:\n",
    "        j=let_numb(int(t))\n",
    "        print(j,end=\"\")\n",
    "        \n",
    "        \n",
    "    print()\n",
    "        \n",
    "\n",
    "    \n",
    "    "
   ]
  },
  {
   "cell_type": "code",
   "execution_count": 7,
   "id": "1045efbc",
   "metadata": {},
   "outputs": [],
   "source": [
    "students = ['Alice', 'Bob', 'Charlie', 'David', 'Eva']\n",
    "grades = {\n",
    "    'Alice': [90, 85, 92, 88],\n",
    "    'Bob': [78, 95, 80, 70],\n",
    "    'Charlie': [82, 60, 75, 88],\n",
    "    'David': [65, 70, 68, 75],\n",
    "    'Eva': [88, 92, 45, 90]\n",
    "} \n",
    "sub=[\"Math\", \"Science\", \"English\", \"History\"]"
   ]
  },
  {
   "cell_type": "code",
   "execution_count": 8,
   "id": "6ed476a6",
   "metadata": {},
   "outputs": [
    {
     "name": "stdout",
     "output_type": "stream",
     "text": [
      "Alice: 88.75\n",
      "Bob: 80.75\n",
      "Charlie: 76.25\n",
      "David: 69.5\n",
      "Eva: 78.75\n"
     ]
    }
   ],
   "source": [
    "def average_grade(grades):\n",
    "    for i, j in grades.items():\n",
    "        total=sum(j)\n",
    "        avg=total/len(j)\n",
    "            \n",
    "        print(f\"{i}: {avg}\")\n",
    "average_grade(grades)"
   ]
  },
  {
   "cell_type": "code",
   "execution_count": 9,
   "id": "ba3cdf05",
   "metadata": {},
   "outputs": [
    {
     "name": "stdout",
     "output_type": "stream",
     "text": [
      "Alice's highest grade is in English\n",
      "Bob's highest grade is in Science\n",
      "Charlie's highest grade is in History\n",
      "David's highest grade is in History\n",
      "Eva's highest grade is in Science\n"
     ]
    }
   ],
   "source": [
    "def highest_grade_subject(g_list):\n",
    "    max_index = g_list.index(max(g_list))\n",
    "    return sub[max_index]\n",
    "\n",
    "for students, g_list in grades.items():\n",
    "    subject = highest_grade_subject(g_list)\n",
    "    print(f\"{students}'s highest grade is in {subject}\")"
   ]
  },
  {
   "cell_type": "code",
   "execution_count": 14,
   "id": "ed58b50c",
   "metadata": {},
   "outputs": [
    {
     "name": "stdout",
     "output_type": "stream",
     "text": [
      "['Alice', 'Bob', 'Charlie', 'David']\n"
     ]
    }
   ],
   "source": [
    "def passed_std(grades):\n",
    "    passing = []\n",
    "    for student, g_list in grades.items():\n",
    "        if all(grade >= 50 for grade in g_list):\n",
    "            passing.append(student)\n",
    "    return passing\n",
    "print(passed_std(grades))"
   ]
  },
  {
   "cell_type": "code",
   "execution_count": 17,
   "id": "df7e316f",
   "metadata": {},
   "outputs": [
    {
     "name": "stdout",
     "output_type": "stream",
     "text": [
      "Alice\n"
     ]
    }
   ],
   "source": [
    "def overall_performance(grades):\n",
    "    highest_avg = -1\n",
    "    top_student = \"\"\n",
    "\n",
    "    for student, g_list in grades.items():\n",
    "        avg = sum(g_list) / len(g_list)\n",
    "        if avg > highest_avg:\n",
    "            highest_avg = avg\n",
    "            top_student = student\n",
    "\n",
    "    return top_student\n",
    "print(overall_performance(grades))"
   ]
  },
  {
   "cell_type": "code",
   "execution_count": null,
   "id": "21d37857",
   "metadata": {},
   "outputs": [
    {
     "name": "stdout",
     "output_type": "stream",
     "text": [
      "d i c t _ v a l u e s ( [ [ 9 0 ,   8 5 ,   9 2 ,   8 8 ,   9 2 ,   9 2 ] ,   [ 7 8 ,   9 5 ,   8 0 ,   7 0 ,   9 5 ,   9 5 ] ,   [ 8 2 ,   6 0 ,   7 5 ,   8 8 ,   8 8 ,   8 8 ] ,   [ 6 5 ,   7 0 ,   6 8 ,   7 5 ,   7 5 ,   7 5 ] ,   [ 8 8 ,   9 2 ,   4 5 ,   9 0 ,   9 2 ,   9 2 ] ] ) d i c t _ v a l u e s ( [ [ 9 0 ,   8 5 ,   9 2 ,   8 8 ,   9 2 ,   9 2 ] ,   [ 7 8 ,   9 5 ,   8 0 ,   7 0 ,   9 5 ,   9 5 ] ,   [ 8 2 ,   6 0 ,   7 5 ,   8 8 ,   8 8 ,   8 8 ] ,   [ 6 5 ,   7 0 ,   6 8 ,   7 5 ,   7 5 ,   7 5 ] ,   [ 8 8 ,   9 2 ,   4 5 ,   9 0 ,   9 2 ,   9 2 ] ] ) d i c t _ v a l u e s ( [ [ 9 0 ,   8 5 ,   9 2 ,   8 8 ,   9 2 ,   9 2 ] ,   [ 7 8 ,   9 5 ,   8 0 ,   7 0 ,   9 5 ,   9 5 ] ,   [ 8 2 ,   6 0 ,   7 5 ,   8 8 ,   8 8 ,   8 8 ] ,   [ 6 5 ,   7 0 ,   6 8 ,   7 5 ,   7 5 ,   7 5 ] ,   [ 8 8 ,   9 2 ,   4 5 ,   9 0 ,   9 2 ,   9 2 ] ] ) d i c t _ v a l u e s ( [ [ 9 0 ,   8 5 ,   9 2 ,   8 8 ,   9 2 ,   9 2 ] ,   [ 7 8 ,   9 5 ,   8 0 ,   7 0 ,   9 5 ,   9 5 ] ,   [ 8 2 ,   6 0 ,   7 5 ,   8 8 ,   8 8 ,   8 8 ] ,   [ 6 5 ,   7 0 ,   6 8 ,   7 5 ,   7 5 ,   7 5 ] ,   [ 8 8 ,   9 2 ,   4 5 ,   9 0 ,   9 2 ,   9 2 ] ] ) d i c t _ v a l u e s ( [ [ 9 0 ,   8 5 ,   9 2 ,   8 8 ,   9 2 ,   9 2 ] ,   [ 7 8 ,   9 5 ,   8 0 ,   7 0 ,   9 5 ,   9 5 ] ,   [ 8 2 ,   6 0 ,   7 5 ,   8 8 ,   8 8 ,   8 8 ] ,   [ 6 5 ,   7 0 ,   6 8 ,   7 5 ,   7 5 ,   7 5 ] ,   [ 8 8 ,   9 2 ,   4 5 ,   9 0 ,   9 2 ,   9 2 ] ] ) d i c t _ v a l u e s ( [ [ 9 0 ,   8 5 ,   9 2 ,   8 8 ,   9 2 ,   9 2 ] ,   [ 7 8 ,   9 5 ,   8 0 ,   7 0 ,   9 5 ,   9 5 ] ,   [ 8 2 ,   6 0 ,   7 5 ,   8 8 ,   8 8 ,   8 8 ] ,   [ 6 5 ,   7 0 ,   6 8 ,   7 5 ,   7 5 ,   7 5 ] ,   [ 8 8 ,   9 2 ,   4 5 ,   9 0 ,   9 2 ,   9 2 ] ] ) d i c t _ v a l u e s ( [ [ 9 0 ,   8 5 ,   9 2 ,   8 8 ,   9 2 ,   9 2 ] ,   [ 7 8 ,   9 5 ,   8 0 ,   7 0 ,   9 5 ,   9 5 ] ,   [ 8 2 ,   6 0 ,   7 5 ,   8 8 ,   8 8 ,   8 8 ] ,   [ 6 5 ,   7 0 ,   6 8 ,   7 5 ,   7 5 ,   7 5 ] ,   [ 8 8 ,   9 2 ,   4 5 ,   9 0 ,   9 2 ,   9 2 ] ] ) d i c t _ v a l u e s ( [ [ 9 0 ,   8 5 ,   9 2 ,   8 8 ,   9 2 ,   9 2 ] ,   [ 7 8 ,   9 5 ,   8 0 ,   7 0 ,   9 5 ,   9 5 ] ,   [ 8 2 ,   6 0 ,   7 5 ,   8 8 ,   8 8 ,   8 8 ] ,   [ 6 5 ,   7 0 ,   6 8 ,   7 5 ,   7 5 ,   7 5 ] ,   [ 8 8 ,   9 2 ,   4 5 ,   9 0 ,   9 2 ,   9 2 ] ] ) d i c t _ v a l u e s ( [ [ 9 0 ,   8 5 ,   9 2 ,   8 8 ,   9 2 ,   9 2 ] ,   [ 7 8 ,   9 5 ,   8 0 ,   7 0 ,   9 5 ,   9 5 ] ,   [ 8 2 ,   6 0 ,   7 5 ,   8 8 ,   8 8 ,   8 8 ] ,   [ 6 5 ,   7 0 ,   6 8 ,   7 5 ,   7 5 ,   7 5 ] ,   [ 8 8 ,   9 2 ,   4 5 ,   9 0 ,   9 2 ,   9 2 ] ] ) d i c t _ v a l u e s ( [ [ 9 0 ,   8 5 ,   9 2 ,   8 8 ,   9 2 ,   9 2 ] ,   [ 7 8 ,   9 5 ,   8 0 ,   7 0 ,   9 5 ,   9 5 ] ,   [ 8 2 ,   6 0 ,   7 5 ,   8 8 ,   8 8 ,   8 8 ] ,   [ 6 5 ,   7 0 ,   6 8 ,   7 5 ,   7 5 ,   7 5 ] ,   [ 8 8 ,   9 2 ,   4 5 ,   9 0 ,   9 2 ,   9 2 ] ] ) d i c t _ v a l u e s ( [ [ 9 0 ,   8 5 ,   9 2 ,   8 8 ,   9 2 ,   9 2 ] ,   [ 7 8 ,   9 5 ,   8 0 ,   7 0 ,   9 5 ,   9 5 ] ,   [ 8 2 ,   6 0 ,   7 5 ,   8 8 ,   8 8 ,   8 8 ] ,   [ 6 5 ,   7 0 ,   6 8 ,   7 5 ,   7 5 ,   7 5 ] ,   [ 8 8 ,   9 2 ,   4 5 ,   9 0 ,   9 2 ,   9 2 ] ] ) d i c t _ v a l u e s ( [ [ 9 0 ,   8 5 ,   9 2 ,   8 8 ,   9 2 ,   9 2 ] ,   [ 7 8 ,   9 5 ,   8 0 ,   7 0 ,   9 5 ,   9 5 ] ,   [ 8 2 ,   6 0 ,   7 5 ,   8 8 ,   8 8 ,   8 8 ] ,   [ 6 5 ,   7 0 ,   6 8 ,   7 5 ,   7 5 ,   7 5 ] ,   [ 8 8 ,   9 2 ,   4 5 ,   9 0 ,   9 2 ,   9 2 ] ] ) d i c t _ v a l u e s ( [ [ 9 0 ,   8 5 ,   9 2 ,   8 8 ,   9 2 ,   9 2 ] ,   [ 7 8 ,   9 5 ,   8 0 ,   7 0 ,   9 5 ,   9 5 ] ,   [ 8 2 ,   6 0 ,   7 5 ,   8 8 ,   8 8 ,   8 8 ] ,   [ 6 5 ,   7 0 ,   6 8 ,   7 5 ,   7 5 ,   7 5 ] ,   [ 8 8 ,   9 2 ,   4 5 ,   9 0 ,   9 2 ,   9 2 ] ] ) d i c t _ v a l u e s ( [ [ 9 0 ,   8 5 ,   9 2 ,   8 8 ,   9 2 ,   9 2 ] ,   [ 7 8 ,   9 5 ,   8 0 ,   7 0 ,   9 5 ,   9 5 ] ,   [ 8 2 ,   6 0 ,   7 5 ,   8 8 ,   8 8 ,   8 8 ] ,   [ 6 5 ,   7 0 ,   6 8 ,   7 5 ,   7 5 ,   7 5 ] ,   [ 8 8 ,   9 2 ,   4 5 ,   9 0 ,   9 2 ,   9 2 ] ] ) d i c t _ v a l u e s ( [ [ 9 0 ,   8 5 ,   9 2 ,   8 8 ,   9 2 ,   9 2 ] ,   [ 7 8 ,   9 5 ,   8 0 ,   7 0 ,   9 5 ,   9 5 ] ,   [ 8 2 ,   6 0 ,   7 5 ,   8 8 ,   8 8 ,   8 8 ] ,   [ 6 5 ,   7 0 ,   6 8 ,   7 5 ,   7 5 ,   7 5 ] ,   [ 8 8 ,   9 2 ,   4 5 ,   9 0 ,   9 2 ,   9 2 ] ] ) d i c t _ v a l u e s ( [ [ 9 0 ,   8 5 ,   9 2 ,   8 8 ,   9 2 ,   9 2 ] ,   [ 7 8 ,   9 5 ,   8 0 ,   7 0 ,   9 5 ,   9 5 ] ,   [ 8 2 ,   6 0 ,   7 5 ,   8 8 ,   8 8 ,   8 8 ] ,   [ 6 5 ,   7 0 ,   6 8 ,   7 5 ,   7 5 ,   7 5 ] ,   [ 8 8 ,   9 2 ,   4 5 ,   9 0 ,   9 2 ,   9 2 ] ] ) d i c t _ v a l u e s ( [ [ 9 0 ,   8 5 ,   9 2 ,   8 8 ,   9 2 ,   9 2 ] ,   [ 7 8 ,   9 5 ,   8 0 ,   7 0 ,   9 5 ,   9 5 ] ,   [ 8 2 ,   6 0 ,   7 5 ,   8 8 ,   8 8 ,   8 8 ] ,   [ 6 5 ,   7 0 ,   6 8 ,   7 5 ,   7 5 ,   7 5 ] ,   [ 8 8 ,   9 2 ,   4 5 ,   9 0 ,   9 2 ,   9 2 ] ] ) d i c t _ v a l u e s ( [ [ 9 0 ,   8 5 ,   9 2 ,   8 8 ,   9 2 ,   9 2 ] ,   [ 7 8 ,   9 5 ,   8 0 ,   7 0 ,   9 5 ,   9 5 ] ,   [ 8 2 ,   6 0 ,   7 5 ,   8 8 ,   8 8 ,   8 8 ] ,   [ 6 5 ,   7 0 ,   6 8 ,   7 5 ,   7 5 ,   7 5 ] ,   [ 8 8 ,   9 2 ,   4 5 ,   9 0 ,   9 2 ,   9 2 ] ] ) d i c t _ v a l u e s ( [ [ 9 0 ,   8 5 ,   9 2 ,   8 8 ,   9 2 ,   9 2 ] ,   [ 7 8 ,   9 5 ,   8 0 ,   7 0 ,   9 5 ,   9 5 ] ,   [ 8 2 ,   6 0 ,   7 5 ,   8 8 ,   8 8 ,   8 8 ] ,   [ 6 5 ,   7 0 ,   6 8 ,   7 5 ,   7 5 ,   7 5 ] ,   [ 8 8 ,   9 2 ,   4 5 ,   9 0 ,   9 2 ,   9 2 ] ] ) d i c t _ v a l u e s ( [ [ 9 0 ,   8 5 ,   9 2 ,   8 8 ,   9 2 ,   9 2 ] ,   [ 7 8 ,   9 5 ,   8 0 ,   7 0 ,   9 5 ,   9 5 ] ,   [ 8 2 ,   6 0 ,   7 5 ,   8 8 ,   8 8 ,   8 8 ] ,   [ 6 5 ,   7 0 ,   6 8 ,   7 5 ,   7 5 ,   7 5 ] ,   [ 8 8 ,   9 2 ,   4 5 ,   9 0 ,   9 2 ,   9 2 ] ] ) "
     ]
    }
   ],
   "source": [
    "h=grades.values()\n",
    "hv=[]\n",
    "for i in h:\n",
    "    #print(max(i))\n",
    "    hv.append(max(i))\n",
    "hv=str(hv)\n",
    "h=str(h)\n",
    "for i in hv:\n",
    "    for j in h:\n",
    "       print(j,end=\" \")\n",
    "       print(j.index(i))\n"
   ]
  },
  {
   "cell_type": "code",
   "execution_count": 69,
   "id": "155ee595",
   "metadata": {},
   "outputs": [
    {
     "data": {
      "text/plain": [
       "dict_values([[90, 85, 92, 88, 92, 92], [78, 95, 80, 70, 95, 95], [82, 60, 75, 88, 88, 88], [65, 70, 68, 75, 75, 75], [88, 92, 45, 90, 92, 92]])"
      ]
     },
     "execution_count": 69,
     "metadata": {},
     "output_type": "execute_result"
    }
   ],
   "source": [
    "h"
   ]
  },
  {
   "cell_type": "code",
   "execution_count": 64,
   "id": "a7dea88b",
   "metadata": {},
   "outputs": [
    {
     "data": {
      "text/plain": [
       "'[92, 95, 88, 75, 92]'"
      ]
     },
     "execution_count": 64,
     "metadata": {},
     "output_type": "execute_result"
    }
   ],
   "source": [
    "hv"
   ]
  },
  {
   "cell_type": "code",
   "execution_count": 1,
   "id": "32b0c8fc",
   "metadata": {},
   "outputs": [
    {
     "data": {
      "text/plain": [
       "6"
      ]
     },
     "execution_count": 1,
     "metadata": {},
     "output_type": "execute_result"
    }
   ],
   "source": [
    "res=lambda a,b,c : a+b+c\n",
    "res(1,2,3)\n"
   ]
  },
  {
   "cell_type": "code",
   "execution_count": 2,
   "id": "a7c4608d",
   "metadata": {},
   "outputs": [
    {
     "data": {
      "text/plain": [
       "'odd'"
      ]
     },
     "execution_count": 2,
     "metadata": {},
     "output_type": "execute_result"
    }
   ],
   "source": [
    "even=lambda n : \"even\" if n%2==0 else \"odd\"\n",
    "even(5) "
   ]
  },
  {
   "cell_type": "code",
   "execution_count": 4,
   "id": "128fd7ba",
   "metadata": {},
   "outputs": [
    {
     "data": {
      "text/plain": [
       "[2, 4, 6, 34, 224, 456, 576]"
      ]
     },
     "execution_count": 4,
     "metadata": {},
     "output_type": "execute_result"
    }
   ],
   "source": [
    "num=[1,2,3,4,5,6,7,34,55,65,224,456,576]\n",
    "even_num=list(filter(lambda x:x%2==0,num))\n",
    "even_num"
   ]
  },
  {
   "cell_type": "code",
   "execution_count": 7,
   "id": "63f8b5ca",
   "metadata": {},
   "outputs": [
    {
     "data": {
      "text/plain": [
       "[2, 4, 6, 34, 224, 456, 576]"
      ]
     },
     "execution_count": 7,
     "metadata": {},
     "output_type": "execute_result"
    }
   ],
   "source": [
    "def even(n):\n",
    "    if n%2==0:\n",
    "        return n\n",
    "ev_n=list(filter(even,num))\n",
    "ev_n"
   ]
  },
  {
   "cell_type": "code",
   "execution_count": 10,
   "id": "bb206431",
   "metadata": {},
   "outputs": [
    {
     "data": {
      "text/plain": [
       "[1, 4, 9, 16, 25, 36, 49, 1156, 3025, 4225, 50176, 207936, 331776]"
      ]
     },
     "execution_count": 10,
     "metadata": {},
     "output_type": "execute_result"
    }
   ],
   "source": [
    "def square(n):\n",
    "    return n**2\n",
    "num=[1,2,3,4,5,6,7,34,55,65,224,456,576]\n",
    "even_num=list(map(square,num))\n",
    "even_num"
   ]
  },
  {
   "cell_type": "code",
   "execution_count": 23,
   "id": "40a69b81",
   "metadata": {},
   "outputs": [
    {
     "data": {
      "text/plain": [
       "[3, 5, 7, 11, 13]"
      ]
     },
     "execution_count": 23,
     "metadata": {},
     "output_type": "execute_result"
    }
   ],
   "source": [
    "num=(3,4,5,6,7,8,9,10,11,12,13,14)\n",
    "def prime(num):\n",
    "    for i in range(2,num):\n",
    "        if num % i==0:\n",
    "            pass\n",
    "            break\n",
    "    else :\n",
    "        return i\n",
    "prime_numbers=list(filter(prime,num))\n",
    "prime_numbers"
   ]
  },
  {
   "cell_type": "code",
   "execution_count": null,
   "id": "f4133f53",
   "metadata": {},
   "outputs": [],
   "source": [
    "a=int(input(\"enter the value of a:\"))\n",
    "b=int(input (\"enter the value of b:\"))\n",
    "\n"
   ]
  },
  {
   "cell_type": "code",
   "execution_count": null,
   "id": "4f2b9e36",
   "metadata": {},
   "outputs": [],
   "source": []
  },
  {
   "cell_type": "code",
   "execution_count": null,
   "id": "7dcba16b",
   "metadata": {},
   "outputs": [],
   "source": []
  },
  {
   "cell_type": "code",
   "execution_count": null,
   "id": "19a7dba1",
   "metadata": {},
   "outputs": [],
   "source": []
  },
  {
   "cell_type": "code",
   "execution_count": null,
   "id": "62b2a5f1",
   "metadata": {},
   "outputs": [],
   "source": []
  },
  {
   "cell_type": "code",
   "execution_count": null,
   "id": "a86ab9eb",
   "metadata": {},
   "outputs": [],
   "source": []
  },
  {
   "cell_type": "code",
   "execution_count": null,
   "id": "d5ea06f3",
   "metadata": {},
   "outputs": [],
   "source": []
  },
  {
   "cell_type": "code",
   "execution_count": null,
   "id": "496c5711",
   "metadata": {},
   "outputs": [],
   "source": []
  },
  {
   "cell_type": "code",
   "execution_count": null,
   "id": "2db7a3fe",
   "metadata": {},
   "outputs": [],
   "source": []
  }
 ],
 "metadata": {
  "kernelspec": {
   "display_name": "Python 3",
   "language": "python",
   "name": "python3"
  },
  "language_info": {
   "codemirror_mode": {
    "name": "ipython",
    "version": 3
   },
   "file_extension": ".py",
   "mimetype": "text/x-python",
   "name": "python",
   "nbconvert_exporter": "python",
   "pygments_lexer": "ipython3",
   "version": "3.11.5"
  }
 },
 "nbformat": 4,
 "nbformat_minor": 5
}
