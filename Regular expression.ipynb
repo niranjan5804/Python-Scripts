{
 "cells": [
  {
   "cell_type": "code",
   "execution_count": 1,
   "id": "54181093-7907-479c-8517-f74c19254915",
   "metadata": {},
   "outputs": [],
   "source": [
    "# importing Regular Expression Library\n",
    "import re\n",
    "# importing Warnings to ignore those errors or warnings\n",
    "import warnings\n",
    "warnings.filterwarnings('ignore')"
   ]
  },
  {
   "cell_type": "code",
   "execution_count": 2,
   "id": "19ad4690",
   "metadata": {},
   "outputs": [
    {
     "name": "stdout",
     "output_type": "stream",
     "text": [
      "Support for regular expressions (RE).\n",
      "\n",
      "This module provides regular expression matching operations similar to\n",
      "those found in Perl.  It supports both 8-bit and Unicode strings; both\n",
      "the pattern and the strings being processed can contain null bytes and\n",
      "characters outside the US ASCII range.\n",
      "\n",
      "Regular expressions can contain both special and ordinary characters.\n",
      "Most ordinary characters, like \"A\", \"a\", or \"0\", are the simplest\n",
      "regular expressions; they simply match themselves.  You can\n",
      "concatenate ordinary characters, so last matches the string 'last'.\n",
      "\n",
      "The special characters are:\n",
      "    \".\"      Matches any character except a newline.\n",
      "    \"^\"      Matches the start of the string.\n",
      "    \"$\"      Matches the end of the string or just before the newline at\n",
      "             the end of the string.\n",
      "    \"*\"      Matches 0 or more (greedy) repetitions of the preceding RE.\n",
      "             Greedy means that it will match as many repetitions as possible.\n",
      "    \"+\"      Matches 1 or more (greedy) repetitions of the preceding RE.\n",
      "    \"?\"      Matches 0 or 1 (greedy) of the preceding RE.\n",
      "    *?,+?,?? Non-greedy versions of the previous three special characters.\n",
      "    {m,n}    Matches from m to n repetitions of the preceding RE.\n",
      "    {m,n}?   Non-greedy version of the above.\n",
      "    \"\\\\\"     Either escapes special characters or signals a special sequence.\n",
      "    []       Indicates a set of characters.\n",
      "             A \"^\" as the first character indicates a complementing set.\n",
      "    \"|\"      A|B, creates an RE that will match either A or B.\n",
      "    (...)    Matches the RE inside the parentheses.\n",
      "             The contents can be retrieved or matched later in the string.\n",
      "    (?aiLmsux) The letters set the corresponding flags defined below.\n",
      "    (?:...)  Non-grouping version of regular parentheses.\n",
      "    (?P<name>...) The substring matched by the group is accessible by name.\n",
      "    (?P=name)     Matches the text matched earlier by the group named name.\n",
      "    (?#...)  A comment; ignored.\n",
      "    (?=...)  Matches if ... matches next, but doesn't consume the string.\n",
      "    (?!...)  Matches if ... doesn't match next.\n",
      "    (?<=...) Matches if preceded by ... (must be fixed length).\n",
      "    (?<!...) Matches if not preceded by ... (must be fixed length).\n",
      "    (?(id/name)yes|no) Matches yes pattern if the group with id/name matched,\n",
      "                       the (optional) no pattern otherwise.\n",
      "\n",
      "The special sequences consist of \"\\\\\" and a character from the list\n",
      "below.  If the ordinary character is not on the list, then the\n",
      "resulting RE will match the second character.\n",
      "    \\number  Matches the contents of the group of the same number.\n",
      "    \\A       Matches only at the start of the string.\n",
      "    \\Z       Matches only at the end of the string.\n",
      "    \\b       Matches the empty string, but only at the start or end of a word.\n",
      "    \\B       Matches the empty string, but not at the start or end of a word.\n",
      "    \\d       Matches any decimal digit; equivalent to the set [0-9] in\n",
      "             bytes patterns or string patterns with the ASCII flag.\n",
      "             In string patterns without the ASCII flag, it will match the whole\n",
      "             range of Unicode digits.\n",
      "    \\D       Matches any non-digit character; equivalent to [^\\d].\n",
      "    \\s       Matches any whitespace character; equivalent to [ \\t\\n\\r\\f\\v] in\n",
      "             bytes patterns or string patterns with the ASCII flag.\n",
      "             In string patterns without the ASCII flag, it will match the whole\n",
      "             range of Unicode whitespace characters.\n",
      "    \\S       Matches any non-whitespace character; equivalent to [^\\s].\n",
      "    \\w       Matches any alphanumeric character; equivalent to [a-zA-Z0-9_]\n",
      "             in bytes patterns or string patterns with the ASCII flag.\n",
      "             In string patterns without the ASCII flag, it will match the\n",
      "             range of Unicode alphanumeric characters (letters plus digits\n",
      "             plus underscore).\n",
      "             With LOCALE, it will match the set [0-9_] plus characters defined\n",
      "             as letters for the current locale.\n",
      "    \\W       Matches the complement of \\w.\n",
      "    \\\\       Matches a literal backslash.\n",
      "\n",
      "This module exports the following functions:\n",
      "    match     Match a regular expression pattern to the beginning of a string.\n",
      "    fullmatch Match a regular expression pattern to all of a string.\n",
      "    search    Search a string for the presence of a pattern.\n",
      "    sub       Substitute occurrences of a pattern found in a string.\n",
      "    subn      Same as sub, but also return the number of substitutions made.\n",
      "    split     Split a string by the occurrences of a pattern.\n",
      "    findall   Find all occurrences of a pattern in a string.\n",
      "    finditer  Return an iterator yielding a Match object for each match.\n",
      "    compile   Compile a pattern into a Pattern object.\n",
      "    purge     Clear the regular expression cache.\n",
      "    escape    Backslash all non-alphanumerics in a string.\n",
      "\n",
      "Each function other than purge and escape can take an optional 'flags' argument\n",
      "consisting of one or more of the following module constants, joined by \"|\".\n",
      "A, L, and U are mutually exclusive.\n",
      "    A  ASCII       For string patterns, make \\w, \\W, \\b, \\B, \\d, \\D\n",
      "                   match the corresponding ASCII character categories\n",
      "                   (rather than the whole Unicode categories, which is the\n",
      "                   default).\n",
      "                   For bytes patterns, this flag is the only available\n",
      "                   behaviour and needn't be specified.\n",
      "    I  IGNORECASE  Perform case-insensitive matching.\n",
      "    L  LOCALE      Make \\w, \\W, \\b, \\B, dependent on the current locale.\n",
      "    M  MULTILINE   \"^\" matches the beginning of lines (after a newline)\n",
      "                   as well as the string.\n",
      "                   \"$\" matches the end of lines (before a newline) as well\n",
      "                   as the end of the string.\n",
      "    S  DOTALL      \".\" matches any character at all, including the newline.\n",
      "    X  VERBOSE     Ignore whitespace and comments for nicer looking RE's.\n",
      "    U  UNICODE     For compatibility only. Ignored for string patterns (it\n",
      "                   is the default), and forbidden for bytes patterns.\n",
      "\n",
      "This module also defines exception 'PatternError', aliased to 'error' for\n",
      "backward compatibility.\n",
      "\n",
      "\n"
     ]
    }
   ],
   "source": [
    "print(re.__doc__)"
   ]
  },
  {
   "cell_type": "markdown",
   "id": "6f70157f",
   "metadata": {},
   "source": [
    "Escape Sequeance"
   ]
  },
  {
   "cell_type": "code",
   "execution_count": 3,
   "id": "3ad29e29",
   "metadata": {},
   "outputs": [
    {
     "name": "stdout",
     "output_type": "stream",
     "text": [
      "<re.Match object; span=(0, 6), match='python'>\n"
     ]
    }
   ],
   "source": [
    "text=\"python is a high level language\"\n",
    "match=re.match(r'\\Apython',text)\n",
    "print(match)"
   ]
  },
  {
   "cell_type": "code",
   "execution_count": 4,
   "id": "6d4c2211",
   "metadata": {},
   "outputs": [
    {
     "name": "stdout",
     "output_type": "stream",
     "text": [
      "['hello', 'hollo']\n"
     ]
    }
   ],
   "source": [
    "import re\n",
    "text=\"hello hollo\"\n",
    "pattern=r\"h.llo\"\n",
    "match=re.findall(pattern,text)\n",
    "print(match)"
   ]
  },
  {
   "cell_type": "code",
   "execution_count": 5,
   "id": "b509db85",
   "metadata": {},
   "outputs": [
    {
     "name": "stdout",
     "output_type": "stream",
     "text": [
      "['python']\n"
     ]
    }
   ],
   "source": [
    "text=\"python is a high level language python\"\n",
    "match=re.findall('\\Apython',text,re.IGNORECASE)\n",
    "print(match)"
   ]
  },
  {
   "cell_type": "code",
   "execution_count": 6,
   "id": "8ea37b37",
   "metadata": {},
   "outputs": [
    {
     "name": "stdout",
     "output_type": "stream",
     "text": [
      "<re.Match object; span=(0, 6), match='python'>\n",
      "<re.Match object; span=(0, 6), match='python'>\n"
     ]
    }
   ],
   "source": [
    "# \\A matches if the word begins with the given character\n",
    "#search and match are both same \n",
    "text=\"python is a high level language\"\n",
    "match=re.search('\\Apython',text,re.IGNORECASE)\n",
    "match1=re.match('\\Apython',text,re.IGNORECASE)\n",
    "print(match)\n",
    "print(match1)"
   ]
  },
  {
   "cell_type": "code",
   "execution_count": 7,
   "id": "a0d801e7",
   "metadata": {},
   "outputs": [
    {
     "name": "stdout",
     "output_type": "stream",
     "text": [
      "<re.Match object; span=(0, 6), match='python'>\n",
      "<re.Match object; span=(0, 6), match='python'>\n",
      "['python']\n"
     ]
    }
   ],
   "source": [
    "# \\b matches if the word begins or ends with the given character\n",
    "#if u dont use r'' then umust use double\\(\\\\) for b because python reads it as (\\)+back space so it gives none as output \n",
    "text=\"python is a high level language\"\n",
    "match=re.search('python\\\\b',text,re.IGNORECASE)\n",
    "match1=re.match(r'\\bpython',text,re.IGNORECASE)\n",
    "match2=re.findall('\\\\bpython',text,re.IGNORECASE)\n",
    "print(match)\n",
    "print(match1)\n",
    "print(match2)"
   ]
  },
  {
   "cell_type": "code",
   "execution_count": 8,
   "id": "af45855f",
   "metadata": {},
   "outputs": [
    {
     "name": "stdout",
     "output_type": "stream",
     "text": [
      "<re.Match object; span=(1, 1), match=''>\n",
      "None\n",
      "[]\n"
     ]
    }
   ],
   "source": [
    "# \\B matches if the word dose not begins or ends with the given character\n",
    "text=\"python is a high level language\"\n",
    "match=re.search('\\B',text,re.IGNORECASE)\n",
    "match1=re.match(r'\\Bgello',text,re.IGNORECASE)\n",
    "match2=re.findall('\\Bpython',text,re.IGNORECASE)\n",
    "print(match)\n",
    "print(match1)\n",
    "print(match2)"
   ]
  },
  {
   "cell_type": "code",
   "execution_count": 9,
   "id": "3c00ab70",
   "metadata": {},
   "outputs": [
    {
     "name": "stdout",
     "output_type": "stream",
     "text": [
      "100\n",
      "<re.Match object; span=(38, 41), match='100'>\n",
      "['100', '200', '300']\n"
     ]
    }
   ],
   "source": [
    "# \\d matches any decimal digit (equalence to [0-9])\n",
    "# for \\d only search and findall will work ,match will not works\n",
    "text=\"python is a high level language withe 100 s of uses 200 300\"\n",
    "match=re.search('\\d+',text)\n",
    "match1=re.search('\\d+',text)\n",
    "match2=re.findall('\\d+',text,re.IGNORECASE)\n",
    "print(match.group())\n",
    "print(match1)\n",
    "print(match2)"
   ]
  },
  {
   "cell_type": "code",
   "execution_count": 10,
   "id": "017692cd",
   "metadata": {},
   "outputs": [
    {
     "name": "stdout",
     "output_type": "stream",
     "text": [
      "python is a high level language withe \n",
      "<re.Match object; span=(0, 1), match='p'>\n",
      "['python is a high level language withe ', 's of uses ', ' ']\n"
     ]
    }
   ],
   "source": [
    "# \\D matches any non digit character (equalence to [^0-9])\n",
    "text=\"python is a high level language withe 100s of uses 200 300\"\n",
    "match=re.search('\\D+',text)\n",
    "match1=re.match('\\D',text)\n",
    "match2=re.findall('\\D+',text,re.IGNORECASE)\n",
    "print(match.group())\n",
    "print(match1)\n",
    "print(match2)"
   ]
  },
  {
   "cell_type": "code",
   "execution_count": 11,
   "id": "7713ed5e",
   "metadata": {},
   "outputs": [
    {
     "name": "stdout",
     "output_type": "stream",
     "text": [
      "<re.Match object; span=(6, 7), match=' '>\n",
      "None\n",
      "[' ', ' ', ' ', ' ', ' ', ' ', ' ', ' ', ' ', ' ', ' ']\n"
     ]
    }
   ],
   "source": [
    "#  \\s matches any white space character\n",
    "text=\"python is a high level language withe 100s of uses 200 300\"\n",
    "match=re.search('\\s+',text)\n",
    "match1=re.match(r'\\s',text)\n",
    "match2=re.findall('\\s+',text,re.IGNORECASE)\n",
    "print(match)\n",
    "print(match1)\n",
    "print(match2)"
   ]
  },
  {
   "cell_type": "code",
   "execution_count": 12,
   "id": "db6c6e46",
   "metadata": {},
   "outputs": [
    {
     "name": "stdout",
     "output_type": "stream",
     "text": [
      "<re.Match object; span=(0, 6), match='python'>\n",
      "<re.Match object; span=(0, 1), match='p'>\n",
      "['python', 'is', '_', 'a', 'high', 'level', 'language', 'withe', '$100s', 'of', 'uses', '200', '300']\n"
     ]
    }
   ],
   "source": [
    "#  \\S matches any non white space character\n",
    "text=\"python is _ a high level language withe $100s of uses 200 300\"\n",
    "match=re.search('\\S+',text)\n",
    "match1=re.match(r'\\S',text)\n",
    "match2=re.findall('\\S+',text,re.IGNORECASE)\n",
    "print(match)\n",
    "print(match1)\n",
    "print(match2)"
   ]
  },
  {
   "cell_type": "code",
   "execution_count": 13,
   "id": "58afd064",
   "metadata": {},
   "outputs": [
    {
     "name": "stdout",
     "output_type": "stream",
     "text": [
      "<re.Match object; span=(0, 6), match='python'>\n",
      "<re.Match object; span=(0, 1), match='p'>\n",
      "['python', 'is', '_', 'a', 'high', 'level', 'language', 'withe', '100s', 'of', 'uses', '200', '300']\n"
     ]
    }
   ],
   "source": [
    "# \\w matches any alphanumeric charectar (leatters ,digits and under_scores(_))\n",
    "text=\"python is _ a high level language withe 100s of uses $200 300\"\n",
    "match=re.search('\\w+',text)\n",
    "match1=re.match(r'\\w',text)\n",
    "match2=re.findall('\\w+',text,re.IGNORECASE)\n",
    "print(match)\n",
    "print(match1)\n",
    "print(match2)"
   ]
  },
  {
   "cell_type": "code",
   "execution_count": 14,
   "id": "7f1ecea9",
   "metadata": {},
   "outputs": [
    {
     "name": "stdout",
     "output_type": "stream",
     "text": [
      "<re.Match object; span=(6, 7), match=' '>\n",
      "None\n",
      "[' ', ' ', ' ', ' ', ' ', ' ', ' ', ' ', ' ', ' ', ' $', ' *', ' ^$', '@']\n"
     ]
    }
   ],
   "source": [
    "# \\W matches any non alphanumeric charectar (leatters ,digits and under_scores(_))\n",
    "text=\"python is _ a high level language withe 100s of uses $200 *300 ^$3@\"\n",
    "match=re.search('\\W+',text)\n",
    "match1=re.match(r'\\W',text)\n",
    "match2=re.findall('\\W+',text,re.IGNORECASE)\n",
    "print(match)\n",
    "print(match1)\n",
    "print(match2)"
   ]
  },
  {
   "cell_type": "code",
   "execution_count": 15,
   "id": "b4335f2b",
   "metadata": {},
   "outputs": [
    {
     "name": "stdout",
     "output_type": "stream",
     "text": [
      "<re.Match object; span=(61, 61), match=''>\n",
      "None\n"
     ]
    }
   ],
   "source": [
    "#  \\Z       Matches only at the end of the string.\n",
    "text=\"python is _ a high level language withe 100s of uses $200 300\"\n",
    "match=re.search('\\Z',text,re.IGNORECASE)\n",
    "match1=re.match(r'\\Z',text,re.IGNORECASE)\n",
    "#match2=re.findall('\\Z+',text,re.IGNORECASE)\n",
    "print(match)\n",
    "print(match1)\n",
    "#print(match2)"
   ]
  },
  {
   "cell_type": "markdown",
   "id": "81a8a0d0",
   "metadata": {},
   "source": [
    "META Characters"
   ]
  },
  {
   "cell_type": "code",
   "execution_count": null,
   "id": "9559ccaa",
   "metadata": {},
   "outputs": [
    {
     "name": "stdout",
     "output_type": "stream",
     "text": [
      "hello\n",
      "<re.Match object; span=(0, 5), match='hello'>\n",
      "['hello', 'hollo']\n"
     ]
    }
   ],
   "source": [
    "# [.] dot = matches any character axcept new line\n",
    "text=\"hello hollo\"\n",
    "pattern=r\"h.llo\"\n",
    "match=re.findall(pattern,text)\n",
    "match1=re.match(pattern,text)\n",
    "match2=re.search(pattern,text)\n",
    "print(match1.group())\n",
    "print(match2)\n",
    "print(match)"
   ]
  },
  {
   "cell_type": "code",
   "execution_count": 28,
   "id": "abe07a1e",
   "metadata": {},
   "outputs": [
    {
     "name": "stdout",
     "output_type": "stream",
     "text": [
      "hello\n",
      "<re.Match object; span=(0, 5), match='hello'>\n",
      "['hello']\n"
     ]
    }
   ],
   "source": [
    "# [^] caret = matches start of the string\n",
    "text=\"hello hollo\"\n",
    "pattern=r\"^hello\"\n",
    "match=re.findall(pattern,text)\n",
    "match1=re.match(pattern,text)\n",
    "match2=re.search(pattern,text)\n",
    "print(match1.group())\n",
    "print(match2)\n",
    "print(match)"
   ]
  },
  {
   "cell_type": "code",
   "execution_count": null,
   "id": "109a86b0",
   "metadata": {},
   "outputs": [
    {
     "name": "stdout",
     "output_type": "stream",
     "text": [
      "None\n",
      "<re.Match object; span=(6, 11), match='hollo'>\n",
      "['hollo']\n"
     ]
    }
   ],
   "source": [
    "#[$] dollers = Matches the end of the string or just before the newline at the end of the string\n",
    "text=\"hello hollo\"\n",
    "pattern=r\"hollo$\"\n",
    "match=re.findall(pattern,text)\n",
    "match1=re.match(pattern,text)\n",
    "match2=re.search(pattern,text)\n",
    "print(match1)\n",
    "print(match2)\n",
    "print(match)"
   ]
  },
  {
   "cell_type": "code",
   "execution_count": 45,
   "id": "322b259b",
   "metadata": {},
   "outputs": [
    {
     "name": "stdout",
     "output_type": "stream",
     "text": [
      "<re.Match object; span=(15, 24), match='the month'>\n",
      "<re.Match object; span=(0, 4), match='geek'>\n",
      "<re.Match object; span=(6, 11), match='World'>\n"
     ]
    }
   ],
   "source": [
    "# practice\n",
    "match=re.search(r'the month$',\"campos geek to the month\")\n",
    "print(match)\n",
    "match=re.search(r'^geek','geek of the month geek of aalgeek',flags=re.IGNORECASE)\n",
    "print(match)\n",
    "text=\"hello World\"\n",
    "pattern=r'world$'\n",
    "mat=re.search(pattern,text,flags=re.IGNORECASE)\n",
    "print(mat)"
   ]
  },
  {
   "cell_type": "code",
   "execution_count": null,
   "id": "f1a72e97",
   "metadata": {},
   "outputs": [
    {
     "name": "stdout",
     "output_type": "stream",
     "text": [
      "<re.Match object; span=(0, 7), match='hellllo'>\n",
      "<re.Match object; span=(0, 7), match='hellllo'>\n",
      "['hellllo', 'helo', 'helo', 'heo', 'hellllllllllo']\n"
     ]
    }
   ],
   "source": [
    "#[*]asterics = Matches 0 or more (greedy) repetitions of the preceding RE\n",
    "text=\"helllloooo helool helololo heoolloo hellllllllllo\"\n",
    "pat=r'hel*o'\n",
    "mat=re.search(pat,text)\n",
    "mat1=re.match(pat,text)\n",
    "mat2=re.findall(pat,text)\n",
    "print(mat)\n",
    "print(mat1)\n",
    "print(mat2)"
   ]
  },
  {
   "cell_type": "code",
   "execution_count": null,
   "id": "818b2276",
   "metadata": {},
   "outputs": [
    {
     "name": "stdout",
     "output_type": "stream",
     "text": [
      "<re.Match object; span=(0, 7), match='hellllo'>\n",
      "<re.Match object; span=(0, 7), match='hellllo'>\n",
      "['hellllo', 'helo', 'helo', 'hellllllo']\n"
     ]
    }
   ],
   "source": [
    "#[+]plus= Matches 1 or more (greedy) repetitions of the preceding RE\n",
    "text=\"helllloooo helool helololo heoolloo hellllllllllo\"\n",
    "pat=r'hel+o'\n",
    "mat=re.search(pat,text)\n",
    "mat1=re.match(pat,text)\n",
    "mat2=re.findall(pat,text)\n",
    "print(mat)\n",
    "print(mat1)\n",
    "print(mat2)"
   ]
  },
  {
   "cell_type": "code",
   "execution_count": 54,
   "id": "20897413",
   "metadata": {},
   "outputs": [
    {
     "name": "stdout",
     "output_type": "stream",
     "text": [
      "<re.Match object; span=(11, 15), match='helo'>\n",
      "None\n",
      "['helo', 'helo', 'heo']\n"
     ]
    }
   ],
   "source": [
    "#[?]question mark = Matches 0 or 1 (greedy) of the preceding RE\n",
    "text=\"helllloooo helool helololo heoolloo hellllllllllo\"\n",
    "pat=r'hel?o'\n",
    "mat=re.search(pat,text)\n",
    "mat1=re.match(pat,text)\n",
    "mat2=re.findall(pat,text)\n",
    "print(mat)\n",
    "print(mat1)\n",
    "print(mat2)"
   ]
  },
  {
   "cell_type": "markdown",
   "id": "7dcff813",
   "metadata": {},
   "source": [
    "Character classes \n",
    "  \n",
    "  it allow you to define a set of characters that can match at certain portion in a string\n"
   ]
  },
  {
   "cell_type": "code",
   "execution_count": 64,
   "id": "6e841ea6",
   "metadata": {},
   "outputs": [
    {
     "name": "stdout",
     "output_type": "stream",
     "text": [
      "<re.Match object; span=(0, 1), match='a'>\n",
      "['a', 'apple', 'a', 'a', 'a', 'e']\n",
      "<re.Match object; span=(0, 1), match='a'>\n"
     ]
    }
   ],
   "source": [
    "#[abc] : matches any character a,b or c\n",
    "text= \"abc apple banana cherry\"\n",
    "pat=r'[apple]+'\n",
    "mat=re.match(pat,text)\n",
    "mat1=re.findall(pat,text)\n",
    "mat2=re.search(pat,text)\n",
    "print(mat)\n",
    "print(mat1)\n",
    "print(mat2)"
   ]
  },
  {
   "cell_type": "code",
   "execution_count": 66,
   "id": "002fba96",
   "metadata": {},
   "outputs": [
    {
     "name": "stdout",
     "output_type": "stream",
     "text": [
      "<re.Match object; span=(0, 3), match='abc'>\n",
      "['abc', 'pple', 'banana', 'herry']\n",
      "<re.Match object; span=(0, 3), match='abc'>\n"
     ]
    }
   ],
   "source": [
    "#[a-z] : matches any lowercase character\n",
    "text= \"abc Apple banana Cherry\"\n",
    "pat=r'[a-z]+'\n",
    "mat=re.match(pat,text)\n",
    "mat1=re.findall(pat,text)\n",
    "mat2=re.search(pat,text)\n",
    "print(mat)\n",
    "print(mat1)\n",
    "print(mat2)"
   ]
  },
  {
   "cell_type": "code",
   "execution_count": 69,
   "id": "be8ed66d",
   "metadata": {},
   "outputs": [
    {
     "name": "stdout",
     "output_type": "stream",
     "text": [
      "None\n",
      "['A', 'C', 'ORANGE', 'GRA']\n",
      "<re.Match object; span=(4, 5), match='A'>\n"
     ]
    }
   ],
   "source": [
    "#[A-Z] : matches any uppercase character\n",
    "text= \"abc Apple banana Cherry ORANGE GRApes\"\n",
    "pat=r'[A-Z]+'\n",
    "mat=re.match(pat,text)\n",
    "mat1=re.findall(pat,text)\n",
    "mat2=re.search(pat,text)\n",
    "print(mat)\n",
    "print(mat1)\n",
    "print(mat2)"
   ]
  },
  {
   "cell_type": "code",
   "execution_count": 70,
   "id": "461645af",
   "metadata": {},
   "outputs": [
    {
     "name": "stdout",
     "output_type": "stream",
     "text": [
      "None\n",
      "['123', '20', '1']\n",
      "<re.Match object; span=(28, 31), match='123'>\n"
     ]
    }
   ],
   "source": [
    "#[0-9] : matches any digits\n",
    "text= \"abc Apple banana Cherry are 123 20rs for one(1)\"\n",
    "pat=r'[0-9]+'\n",
    "mat=re.match(pat,text)\n",
    "mat1=re.findall(pat,text)\n",
    "mat2=re.search(pat,text)\n",
    "print(mat)\n",
    "print(mat1)\n",
    "print(mat2)"
   ]
  },
  {
   "cell_type": "code",
   "execution_count": 72,
   "id": "b5670c9f",
   "metadata": {},
   "outputs": [
    {
     "name": "stdout",
     "output_type": "stream",
     "text": [
      "None\n",
      "['bc ', 'ppl', ' b', 'n', 'n', ' ch', 'rry']\n",
      "<re.Match object; span=(1, 4), match='bc '>\n"
     ]
    }
   ],
   "source": [
    "#[^abc] : matches any character except a,b or c\n",
    "text= \"abc apple banana cherry\"\n",
    "pat=r'[^aeiou]+'\n",
    "mat=re.match(pat,text)\n",
    "mat1=re.findall(pat,text)\n",
    "mat2=re.search(pat,text)\n",
    "print(mat)\n",
    "print(mat1)\n",
    "print(mat2)"
   ]
  },
  {
   "cell_type": "code",
   "execution_count": 79,
   "id": "2f49cc7c",
   "metadata": {},
   "outputs": [
    {
     "name": "stdout",
     "output_type": "stream",
     "text": [
      "['jack1998@gmail.com', 'king@gmaiil.com']\n"
     ]
    }
   ],
   "source": [
    "text=\"jack email is jack1998@gmail.com and king@gmaiil.com\"\n",
    "pat=r'[\\w.]+@[\\w.]+'\n",
    "res=re.findall(pat,text,re.IGNORECASE)\n",
    "print(res)\n"
   ]
  },
  {
   "cell_type": "markdown",
   "id": "478db68b",
   "metadata": {},
   "source": [
    "Quantifiers"
   ]
  },
  {
   "cell_type": "markdown",
   "id": "2555cc39",
   "metadata": {},
   "source": [
    "it specifie how many times a character or a group can occur.some commonly used quantifiers are"
   ]
  },
  {
   "cell_type": "code",
   "execution_count": 92,
   "id": "45e9bd58",
   "metadata": {},
   "outputs": [
    {
     "name": "stdout",
     "output_type": "stream",
     "text": [
      "hellooooo\n",
      "<re.Match object; span=(0, 9), match='hellooooo'>\n"
     ]
    }
   ],
   "source": [
    "#{n} : matches exactly n occurrence of the precding character or group\n",
    "text=\"hellooooooooooooo\"\n",
    "pat=r\"hello{5}\"\n",
    "mat=re.search(pat,text)\n",
    "mat1=re.match(pat,text)\n",
    "print(mat.group())\n",
    "print(mat1)"
   ]
  },
  {
   "cell_type": "code",
   "execution_count": 107,
   "id": "631fe152",
   "metadata": {},
   "outputs": [
    {
     "name": "stdout",
     "output_type": "stream",
     "text": [
      "hellooooo\n",
      "<re.Match object; span=(0, 9), match='hellooooo'>\n"
     ]
    }
   ],
   "source": [
    "#{n,m} : matches between n and m occurrence of the precding character or group\n",
    "text=\"hellooooooooooooo\"\n",
    "pat=r\"hello{3,5}\"\n",
    "mat=re.search(pat,text)\n",
    "mat1=re.match(pat,text)\n",
    "print(mat.group())\n",
    "print(mat1)"
   ]
  },
  {
   "cell_type": "code",
   "execution_count": 108,
   "id": "959d071e",
   "metadata": {},
   "outputs": [
    {
     "name": "stdout",
     "output_type": "stream",
     "text": [
      "hellooooooooooooo\n",
      "<re.Match object; span=(0, 17), match='hellooooooooooooo'>\n"
     ]
    }
   ],
   "source": [
    "#{n,} : matches between n or more occurrence of the precding character or group\n",
    "text=\"hellooooooooooooo\"\n",
    "pat=r\"hello{3,}\"\n",
    "mat=re.search(pat,text)\n",
    "mat1=re.match(pat,text)\n",
    "print(mat.group())\n",
    "print(mat1)"
   ]
  },
  {
   "cell_type": "code",
   "execution_count": null,
   "id": "55728fcd",
   "metadata": {},
   "outputs": [
    {
     "name": "stdout",
     "output_type": "stream",
     "text": [
      "0123\n",
      "None\n"
     ]
    }
   ],
   "source": [
    "#{n} : matches exactly n occurrence of the precding character or group\n",
    "text=\"hellooooooooooooo0123\"\n",
    "pat=r\"\\d{3}\"\n",
    "mat=re.search(pat,text)\n",
    "mat1=re.match(pat,text)\n",
    "print(mat.group())\n",
    "print(mat1)"
   ]
  },
  {
   "cell_type": "code",
   "execution_count": null,
   "id": "ea4ad65f",
   "metadata": {},
   "outputs": [],
   "source": []
  }
 ],
 "metadata": {
  "kernelspec": {
   "display_name": "Python 3",
   "language": "python",
   "name": "python3"
  },
  "language_info": {
   "codemirror_mode": {
    "name": "ipython",
    "version": 3
   },
   "file_extension": ".py",
   "mimetype": "text/x-python",
   "name": "python",
   "nbconvert_exporter": "python",
   "pygments_lexer": "ipython3",
   "version": "3.13.3"
  }
 },
 "nbformat": 4,
 "nbformat_minor": 5
}
